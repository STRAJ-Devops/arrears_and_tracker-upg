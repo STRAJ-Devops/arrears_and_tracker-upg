{
 "cells": [
  {
   "cell_type": "code",
   "execution_count": 2,
   "id": "b1edbaec-893e-477e-9dfa-b32ddaa296f1",
   "metadata": {},
   "outputs": [
    {
     "name": "stdout",
     "output_type": "stream",
     "text": [
      "27\n"
     ]
    }
   ],
   "source": [
    "import string\n",
    "\n",
    "def column_to_number(column_name):\n",
    "    letters = string.ascii_uppercase\n",
    "    result = 0\n",
    "    for char in column_name:\n",
    "        result = result * 26 + letters.index(char) + 1\n",
    "    return result\n",
    "\n",
    "# Example usage\n",
    "column_number = column_to_number(\"AB\")\n",
    "print(column_number-1)\n"
   ]
  },
  {
   "cell_type": "code",
   "execution_count": null,
   "id": "8b022831-3c0c-48ef-a5f9-7c28d4345a86",
   "metadata": {},
   "outputs": [],
   "source": []
  }
 ],
 "metadata": {
  "kernelspec": {
   "display_name": "Python 3 (ipykernel)",
   "language": "python",
   "name": "python3"
  },
  "language_info": {
   "codemirror_mode": {
    "name": "ipython",
    "version": 3
   },
   "file_extension": ".py",
   "mimetype": "text/x-python",
   "name": "python",
   "nbconvert_exporter": "python",
   "pygments_lexer": "ipython3",
   "version": "3.12.2"
  }
 },
 "nbformat": 4,
 "nbformat_minor": 5
}
