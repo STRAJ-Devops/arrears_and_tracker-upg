{
 "cells": [
  {
   "cell_type": "code",
   "execution_count": 4,
   "id": "c15fb724-fe7c-4cd4-81df-37924db7774b",
   "metadata": {},
   "outputs": [
    {
     "name": "stdout",
     "output_type": "stream",
     "text": [
      "Values from column 0 and column 63:\n"
     ]
    }
   ],
   "source": [
    "import mysql.connector\n",
    "import openpyxl\n",
    "\n",
    "# Define a function to connect to MySQL and create a table if not exists\n",
    "def create_database():\n",
    "    conn = mysql.connector.connect(\n",
    "        host=\"localhost\",\n",
    "        user=\"root\",\n",
    "        password=\"\",\n",
    "        database=\"data_imports\"\n",
    "    )\n",
    "    cursor = conn.cursor()\n",
    "    cursor.execute('''CREATE TABLE IF NOT EXISTS villages\n",
    "                      (subcounty VARCHAR(255), village VARCHAR(255))''')\n",
    "    conn.commit()\n",
    "    conn.close()\n",
    "\n",
    "# Define a function to insert values into the MySQL database\n",
    "def insert_values(region, district):\n",
    "    conn = mysql.connector.connect(\n",
    "        host=\"localhost\",\n",
    "        user=\"root\",\n",
    "        password=\"\",\n",
    "        database=\"data_imports\"\n",
    "    )\n",
    "    cursor = conn.cursor()\n",
    "    cursor.execute(\"INSERT INTO villages (subcounty, village) VALUES (%s, %s)\", (region, district))\n",
    "    conn.commit()\n",
    "    conn.close()\n",
    "\n",
    "# Load the workbook\n",
    "workbook = openpyxl.load_workbook(\"temp.xlsx\")\n",
    "worksheet = workbook.active\n",
    "\n",
    "# Transpose the data to print column-wise\n",
    "transposed_data = zip(*worksheet.iter_rows(values_only=True))\n",
    "\n",
    "# Get the values from the desired columns (1st and 64th columns, 0-indexed)\n",
    "first_column_values = []\n",
    "sixty_third_column_values = []\n",
    "\n",
    "for i, row in enumerate(transposed_data):\n",
    "    if i == 61:\n",
    "        sixty_third_column_values = row\n",
    "    elif i == 63:\n",
    "        first_column_values = row\n",
    "        break\n",
    "\n",
    "# Initialize a set to store unique values\n",
    "unique_values = set()\n",
    "\n",
    "create_database()\n",
    "\n",
    "# Insert the values into the database\n",
    "for value1, value2 in zip(first_column_values, sixty_third_column_values):\n",
    "    if (value1, value2) not in unique_values:\n",
    "        insert_values(value1, value2)\n",
    "        unique_values.add((value1, value2))\n",
    "\n",
    "# Print the values from both columns column-wise, ignoring duplicates\n",
    "print(\"Values from column 0 and column 63:\")\n",
    "for value1, value2 in zip(first_column_values, sixty_third_column_values):\n",
    "    if (value1, value2) not in unique_values:\n",
    "        print(f\"{value1} | {value2}\")\n",
    "        unique_values.add((value1, value2))\n"
   ]
  },
  {
   "cell_type": "code",
   "execution_count": null,
   "id": "dffc6edc-75c8-4f1f-b6c1-27806c7077fa",
   "metadata": {},
   "outputs": [],
   "source": []
  }
 ],
 "metadata": {
  "kernelspec": {
   "display_name": "Python 3 (ipykernel)",
   "language": "python",
   "name": "python3"
  },
  "language_info": {
   "codemirror_mode": {
    "name": "ipython",
    "version": 3
   },
   "file_extension": ".py",
   "mimetype": "text/x-python",
   "name": "python",
   "nbconvert_exporter": "python",
   "pygments_lexer": "ipython3",
   "version": "3.12.2"
  }
 },
 "nbformat": 4,
 "nbformat_minor": 5
}
