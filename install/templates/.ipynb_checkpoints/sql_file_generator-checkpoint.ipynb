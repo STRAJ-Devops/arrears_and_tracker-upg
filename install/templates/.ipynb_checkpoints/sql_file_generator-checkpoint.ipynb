{
 "cells": [
  {
   "cell_type": "code",
   "execution_count": 46,
   "id": "bdcc8640-0956-473d-ad8a-a1d2c778b423",
   "metadata": {},
   "outputs": [
    {
     "name": "stdout",
     "output_type": "stream",
     "text": [
      "SQL file 'villages.sql' generated successfully.\n"
     ]
    }
   ],
   "source": [
    "import openpyxl\n",
    "\n",
    "# Define variable to load the workbook\n",
    "workbook = openpyxl.load_workbook(\"temp.xlsx\")\n",
    "\n",
    "# Define variable to select the active sheet\n",
    "worksheet = workbook.active\n",
    "\n",
    "# Transpose the data to print column-wise\n",
    "transposed_data = zip(*worksheet.iter_rows(values_only=True))\n",
    "\n",
    "# Skip to the 10th column (BK column)\n",
    "for _ in range(61):\n",
    "    next(transposed_data)\n",
    "\n",
    "# Get the 10th column values\n",
    "tenth_column_values = next(transposed_data)\n",
    "\n",
    "# Initialize a set to store unique village names\n",
    "unique_village_names = set()\n",
    "\n",
    "# Extract unique village names\n",
    "for village_name in tenth_column_values:\n",
    "    unique_village_names.add(village_name)\n",
    "\n",
    "# Define the name of the SQL file to be generated\n",
    "sql_file_name = \"villages.sql\"\n",
    "\n",
    "# Open the SQL file in write mode\n",
    "with open(sql_file_name, \"w\") as sql_file:\n",
    "    # Initialize a counter for village IDs\n",
    "    village_id_counter = 1\n",
    "    \n",
    "    # Iterate over the unique village names\n",
    "    for village_name in unique_village_names:\n",
    "        # Write an SQL INSERT statement to the file for the 'villages' table\n",
    "        sql_file.write(f\"INSERT INTO villages (village_id, village_name) VALUES ({village_id_counter}, '{village_name}');\\n\")\n",
    "        \n",
    "        # Increment the village ID counter for the next village\n",
    "        village_id_counter += 1\n",
    "\n",
    "# Print a message indicating the SQL file has been generated\n",
    "print(f\"SQL file '{sql_file_name}' generated successfully.\")\n"
   ]
  },
  {
   "cell_type": "code",
   "execution_count": null,
   "id": "68013fd2-5bd9-4f3e-8dca-bc37813d5365",
   "metadata": {},
   "outputs": [],
   "source": []
  },
  {
   "cell_type": "code",
   "execution_count": null,
   "id": "213e4c30-42ae-4113-9310-fa059d73c9e4",
   "metadata": {},
   "outputs": [],
   "source": []
  }
 ],
 "metadata": {
  "kernelspec": {
   "display_name": "Python 3 (ipykernel)",
   "language": "python",
   "name": "python3"
  },
  "language_info": {
   "codemirror_mode": {
    "name": "ipython",
    "version": 3
   },
   "file_extension": ".py",
   "mimetype": "text/x-python",
   "name": "python",
   "nbconvert_exporter": "python",
   "pygments_lexer": "ipython3",
   "version": "3.12.2"
  }
 },
 "nbformat": 4,
 "nbformat_minor": 5
}
