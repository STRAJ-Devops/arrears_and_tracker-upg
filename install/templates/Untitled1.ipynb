{
 "cells": [
  {
   "cell_type": "code",
   "execution_count": null,
   "id": "df54a6a4-3046-46ce-9912-caf1947c6647",
   "metadata": {},
   "outputs": [],
   "source": [
    "import openpyxl\n",
    "import mysql.connector\n",
    "\n",
    "# Define function to create the SQL table\n",
    "def create_table(cursor):\n",
    "    cursor.execute('''CREATE TABLE IF NOT EXISTS District_Subcounty (\n",
    "                        district VARCHAR(255),\n",
    "                        subcounty VARCHAR(255),\n",
    "                        UNIQUE(district, subcounty)\n",
    "                      )''')\n",
    "\n",
    "# Define function to insert values into the SQL table\n",
    "def insert_values(cursor, district, subcounty):\n",
    "    cursor.execute('''INSERT IGNORE INTO District_Subcounty (district, subcounty)\n",
    "                      VALUES (%s, %s)''', (district, subcounty))\n",
    "\n",
    "# Connect to the MySQL database\n",
    "conn = mysql.connector.connect(\n",
    "    host=\"localhost\",\n",
    "    user=\"root\",\n",
    "    password=\"yourpassword\",\n",
    "    database=\"yourdatabase\"\n",
    ")\n",
    "cursor = conn.cursor()\n",
    "\n",
    "# Create the table if it doesn't exist\n",
    "create_table(cursor)\n",
    "\n",
    "# Define variable to load the workbook\n",
    "workbook = openpyxl.load_workbook(\"temp.xlsx\")\n",
    "\n",
    "# Define variable to select the active sheet\n",
    "worksheet = workbook.active\n",
    "\n",
    "# Transpose the data to print column-wise\n",
    "transposed_data = zip(*worksheet.iter_rows(values_only=True))\n",
    "\n",
    "# Skip to the 1st and 64th columns (0-indexed)\n",
    "for _ in range(62):\n",
    "    next(transposed_data)\n",
    "\n",
    "# Get the values from both the first (0-indexed) and 63rd (62-indexed) columns\n",
    "first_column_values = next(transposed_data)\n",
    "sixty_third_column_values = next(transposed_data)\n",
    "\n",
    "# Initialize a set to store unique values\n",
    "unique_values = set()\n",
    "\n",
    "# Insert the values into the SQL table, ignoring duplicates\n",
    "for value1, value2 in zip(first_column_values, sixty_third_column_values):\n",
    "    # Check if the pair of values is not in the set of unique values\n",
    "    if (value1, value2) not in unique_values:\n",
    "        # Insert the pair of values into the SQL table\n",
    "        insert_values(cursor, value1, value2)\n",
    "        # Add the pair of values to the set of unique values\n",
    "        unique_values.add((value1, value2))\n",
    "\n",
    "# Commit the changes and close the connection\n",
    "conn.commit()\n",
    "conn.close()"
   ]
  },
  {
   "cell_type": "code",
   "execution_count": null,
   "id": "00f2ae06-0566-48ae-af21-40cc71ea6f1d",
   "metadata": {},
   "outputs": [],
   "source": [
    "    if i == 61:\n",
    "        sixty_third_column_values = row\n",
    "    elif i == 63:\n",
    "        first_column_values = row\n",
    "        break"
   ]
  }
 ],
 "metadata": {
  "kernelspec": {
   "display_name": "Python 3 (ipykernel)",
   "language": "python",
   "name": "python3"
  },
  "language_info": {
   "codemirror_mode": {
    "name": "ipython",
    "version": 3
   },
   "file_extension": ".py",
   "mimetype": "text/x-python",
   "name": "python",
   "nbconvert_exporter": "python",
   "pygments_lexer": "ipython3",
   "version": "3.12.2"
  }
 },
 "nbformat": 4,
 "nbformat_minor": 5
}
